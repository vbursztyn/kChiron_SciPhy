{
 "cells": [
  {
   "cell_type": "code",
   "execution_count": 1,
   "metadata": {
    "collapsed": true
   },
   "outputs": [],
   "source": [
    "import pickle\n",
    "\n",
    "trial_1 = None\n",
    "\n",
    "with open('trials/trial-0.padp', 'rb') as f:\n",
    "    trial_1 = pickle.load(f)"
   ]
  },
  {
   "cell_type": "code",
   "execution_count": 2,
   "metadata": {
    "collapsed": false
   },
   "outputs": [
    {
     "data": {
      "text/plain": [
       "['ETLS', 'RUNS', 'DATASETS', 'INTERACTIONS', 'RESULTS', 'URLS', 'QUERIES']"
      ]
     },
     "execution_count": 2,
     "metadata": {},
     "output_type": "execute_result"
    }
   ],
   "source": [
    "trial_1.keys()"
   ]
  },
  {
   "cell_type": "code",
   "execution_count": 3,
   "metadata": {
    "collapsed": false
   },
   "outputs": [
    {
     "data": {
      "text/plain": [
       "{datetime.datetime(2017, 5, 24, 19, 25, 39, 919255): {'label': 'Genes dataset downloaded from PharmGKB',\n",
       "  'path': 'data/genes.tsv'},\n",
       " datetime.datetime(2017, 5, 24, 19, 25, 39, 963080): {'label': 'Drugs dataset downloaded from PharmGKB',\n",
       "  'path': 'data/drugs.tsv'},\n",
       " datetime.datetime(2017, 5, 24, 19, 25, 39, 965896): {'label': 'Drug labels dataset downloaded from PharmGKB',\n",
       "  'path': 'data/drugLabels.byGene.tsv'}}"
      ]
     },
     "execution_count": 3,
     "metadata": {},
     "output_type": "execute_result"
    }
   ],
   "source": [
    "trial_1['DATASETS'] # Registered three local datasets (option for saving raw files was turned off)"
   ]
  },
  {
   "cell_type": "code",
   "execution_count": 4,
   "metadata": {
    "collapsed": false
   },
   "outputs": [
    {
     "data": {
      "text/plain": [
       "18"
      ]
     },
     "execution_count": 4,
     "metadata": {},
     "output_type": "execute_result"
    }
   ],
   "source": [
    "len(trial_1['ETLS']) # Registered 18 operations that modified loaded or retrieved data"
   ]
  },
  {
   "cell_type": "code",
   "execution_count": 5,
   "metadata": {
    "collapsed": false
   },
   "outputs": [
    {
     "data": {
      "text/plain": [
       "20"
      ]
     },
     "execution_count": 5,
     "metadata": {},
     "output_type": "execute_result"
    }
   ],
   "source": [
    "len(trial_1['INTERACTIONS']) # Registered 20 interactions with the two GUI components"
   ]
  },
  {
   "cell_type": "code",
   "execution_count": 6,
   "metadata": {
    "collapsed": false
   },
   "outputs": [
    {
     "data": {
      "text/plain": [
       "{'column': u'Label Summary',\n",
       " 'label': 'Scientists search by a disease or a drug and filter the associated genes',\n",
       " 'value': u'cardiovascular '}"
      ]
     },
     "execution_count": 6,
     "metadata": {},
     "output_type": "execute_result"
    }
   ],
   "source": [
    "interactions = trial_1['INTERACTIONS'].keys()\n",
    "trial_1['INTERACTIONS'][interactions[9]] # Retrieving a specific interaction"
   ]
  },
  {
   "cell_type": "code",
   "execution_count": 7,
   "metadata": {
    "collapsed": false
   },
   "outputs": [
    {
     "data": {
      "text/plain": [
       "{datetime.datetime(2017, 5, 24, 19, 37, 53, 913871): {'content':         Label ID            Drug Name Gene Symbol      Gene ID  \\\n",
       "  0    PA166123409            aliskiren       ABCB1        PA267   \n",
       "  1    PA166159586            aliskiren       ABCB1        PA267   \n",
       "  2    PA166127660            dasatinib        ABI1      PA36144   \n",
       "  3    PA166127660            dasatinib         BCR      PA25321   \n",
       "  4    PA166104914            dasatinib         BCR      PA25321   \n",
       "  5    PA166104781            dasatinib         BCR      PA25321   \n",
       "  6    PA166123537            dasatinib         BCR      PA25321   \n",
       "  7    PA166104914            dasatinib        ABL1      PA24413   \n",
       "  8    PA166104781            dasatinib        ABL1      PA24413   \n",
       "  9    PA166123537            dasatinib        ABL1      PA24413   \n",
       "  10   PA166127682             imatinib        ABI1      PA36144   \n",
       "  11   PA166127682             imatinib         BCR      PA25321   \n",
       "  12   PA166104926             imatinib         BCR      PA25321   \n",
       "  13   PA166104790             imatinib         BCR      PA25321   \n",
       "  14   PA166123542             imatinib         BCR      PA25321   \n",
       "  15   PA166127682             imatinib      FIP1L1  PA134875694   \n",
       "  16   PA166104926             imatinib      FIP1L1  PA134875694   \n",
       "  17   PA166123542             imatinib      FIP1L1  PA134875694   \n",
       "  18   PA166127682             imatinib         KIT      PA30128   \n",
       "  19   PA166104926             imatinib         KIT      PA30128   \n",
       "  20   PA166104790             imatinib         KIT      PA30128   \n",
       "  21   PA166123542             imatinib         KIT      PA30128   \n",
       "  22   PA166127682             imatinib      PDGFRA      PA33147   \n",
       "  23   PA166123542             imatinib      PDGFRA      PA33147   \n",
       "  24   PA166127682             imatinib      PDGFRB      PA33148   \n",
       "  25   PA166104926             imatinib      PDGFRB      PA33148   \n",
       "  26   PA166104926             imatinib        ABL1      PA24413   \n",
       "  27   PA166104790             imatinib        ABL1      PA24413   \n",
       "  28   PA166123542             imatinib        ABL1      PA24413   \n",
       "  29   PA166127693            nilotinib        ABI1      PA36144   \n",
       "  ..           ...                  ...         ...          ...   \n",
       "  589  PA166123527     arsenic trioxide         PML      PA33439   \n",
       "  590  PA166104821     arsenic trioxide        RARA      PA34225   \n",
       "  591  PA166104846     arsenic trioxide        RARA      PA34225   \n",
       "  592  PA166127632     arsenic trioxide        RARA      PA34225   \n",
       "  593  PA166123527     arsenic trioxide        RARA      PA34225   \n",
       "  594  PA166104817            tretinoin         PML      PA33439   \n",
       "  595  PA166127725            tretinoin         PML      PA33439   \n",
       "  596  PA166123551            tretinoin         PML      PA33439   \n",
       "  597  PA166104817            tretinoin        RARA      PA34225   \n",
       "  598  PA166127725            tretinoin        RARA      PA34225   \n",
       "  599  PA166123551            tretinoin        RARA      PA34225   \n",
       "  600  PA166122907           vandetanib         RET      PA34335   \n",
       "  601  PA166160021         cabozantinib         RET      PA34335   \n",
       "  602  PA166104929            clomifene         RHD      PA34387   \n",
       "  603  PA166123390           fampridine     SLC22A2        PA331   \n",
       "  604  PA166104904  brentuximab vedotin     TNFRSF8      PA36616   \n",
       "  605  PA166104778  brentuximab vedotin     TNFRSF8      PA36616   \n",
       "  606  PA166160288  brentuximab vedotin     TNFRSF8      PA36616   \n",
       "  607  PA166119824            belimumab    TNFSF13B        PA434   \n",
       "  608  PA166114905            belimumab    TNFSF13B        PA434   \n",
       "  609  PA166159938            belimumab    TNFSF13B        PA434   \n",
       "  610  PA166121251       mercaptopurine        TPMT        PA356   \n",
       "  611  PA166104810       mercaptopurine        TPMT        PA356   \n",
       "  612  PA166127690       mercaptopurine        TPMT        PA356   \n",
       "  613  PA166104782         azathioprine        TPMT        PA356   \n",
       "  614  PA166127635         azathioprine        TPMT        PA356   \n",
       "  615  PA166123530         azathioprine        TPMT        PA356   \n",
       "  616  PA166104853            cisplatin        TPMT        PA356   \n",
       "  617  PA166104838          thioguanine        TPMT        PA356   \n",
       "  618  PA166127720          thioguanine        TPMT        PA356   \n",
       "  \n",
       "                                               Gene Name             NCBI  \\\n",
       "  0    ATP-binding cassette, sub-family B (MDR/TAP), ...   NCBI Gene:5243   \n",
       "  1    ATP-binding cassette, sub-family B (MDR/TAP), ...   NCBI Gene:5243   \n",
       "  2                                     abl-interactor 1  NCBI Gene:10006   \n",
       "  3                            breakpoint cluster region    NCBI Gene:613   \n",
       "  4                            breakpoint cluster region    NCBI Gene:613   \n",
       "  5                            breakpoint cluster region    NCBI Gene:613   \n",
       "  6                            breakpoint cluster region    NCBI Gene:613   \n",
       "  7    ABL proto-oncogene 1, non-receptor tyrosine ki...     NCBI Gene:25   \n",
       "  8    ABL proto-oncogene 1, non-receptor tyrosine ki...     NCBI Gene:25   \n",
       "  9    ABL proto-oncogene 1, non-receptor tyrosine ki...     NCBI Gene:25   \n",
       "  10                                    abl-interactor 1  NCBI Gene:10006   \n",
       "  11                           breakpoint cluster region    NCBI Gene:613   \n",
       "  12                           breakpoint cluster region    NCBI Gene:613   \n",
       "  13                           breakpoint cluster region    NCBI Gene:613   \n",
       "  14                           breakpoint cluster region    NCBI Gene:613   \n",
       "  15            factor interacting with PAPOLA and CPSF1  NCBI Gene:81608   \n",
       "  16            factor interacting with PAPOLA and CPSF1  NCBI Gene:81608   \n",
       "  17            factor interacting with PAPOLA and CPSF1  NCBI Gene:81608   \n",
       "  18   v-kit Hardy-Zuckerman 4 feline sarcoma viral o...   NCBI Gene:3815   \n",
       "  19   v-kit Hardy-Zuckerman 4 feline sarcoma viral o...   NCBI Gene:3815   \n",
       "  20   v-kit Hardy-Zuckerman 4 feline sarcoma viral o...   NCBI Gene:3815   \n",
       "  21   v-kit Hardy-Zuckerman 4 feline sarcoma viral o...   NCBI Gene:3815   \n",
       "  22   platelet-derived growth factor receptor, alpha...   NCBI Gene:5156   \n",
       "  23   platelet-derived growth factor receptor, alpha...   NCBI Gene:5156   \n",
       "  24   platelet-derived growth factor receptor, beta ...   NCBI Gene:5159   \n",
       "  25   platelet-derived growth factor receptor, beta ...   NCBI Gene:5159   \n",
       "  26   ABL proto-oncogene 1, non-receptor tyrosine ki...     NCBI Gene:25   \n",
       "  27   ABL proto-oncogene 1, non-receptor tyrosine ki...     NCBI Gene:25   \n",
       "  28   ABL proto-oncogene 1, non-receptor tyrosine ki...     NCBI Gene:25   \n",
       "  29                                    abl-interactor 1  NCBI Gene:10006   \n",
       "  ..                                                 ...              ...   \n",
       "  589                             promyelocytic leukemia   NCBI Gene:5371   \n",
       "  590                      retinoic acid receptor, alpha   NCBI Gene:5914   \n",
       "  591                      retinoic acid receptor, alpha   NCBI Gene:5914   \n",
       "  592                      retinoic acid receptor, alpha   NCBI Gene:5914   \n",
       "  593                      retinoic acid receptor, alpha   NCBI Gene:5914   \n",
       "  594                             promyelocytic leukemia   NCBI Gene:5371   \n",
       "  595                             promyelocytic leukemia   NCBI Gene:5371   \n",
       "  596                             promyelocytic leukemia   NCBI Gene:5371   \n",
       "  597                      retinoic acid receptor, alpha   NCBI Gene:5914   \n",
       "  598                      retinoic acid receptor, alpha   NCBI Gene:5914   \n",
       "  599                      retinoic acid receptor, alpha   NCBI Gene:5914   \n",
       "  600                                 ret proto-oncogene   NCBI Gene:5979   \n",
       "  601                                 ret proto-oncogene   NCBI Gene:5979   \n",
       "  602                          Rh blood group, D antigen   NCBI Gene:6007   \n",
       "  603  solute carrier family 22 (organic cation trans...   NCBI Gene:6582   \n",
       "  604  tumor necrosis factor receptor superfamily, me...    NCBI Gene:943   \n",
       "  605  tumor necrosis factor receptor superfamily, me...    NCBI Gene:943   \n",
       "  606  tumor necrosis factor receptor superfamily, me...    NCBI Gene:943   \n",
       "  607  tumor necrosis factor (ligand) superfamily, me...  NCBI Gene:10673   \n",
       "  608  tumor necrosis factor (ligand) superfamily, me...  NCBI Gene:10673   \n",
       "  609  tumor necrosis factor (ligand) superfamily, me...  NCBI Gene:10673   \n",
       "  610                     thiopurine S-methyltransferase   NCBI Gene:7172   \n",
       "  611                     thiopurine S-methyltransferase   NCBI Gene:7172   \n",
       "  612                     thiopurine S-methyltransferase   NCBI Gene:7172   \n",
       "  613                     thiopurine S-methyltransferase   NCBI Gene:7172   \n",
       "  614                     thiopurine S-methyltransferase   NCBI Gene:7172   \n",
       "  615                     thiopurine S-methyltransferase   NCBI Gene:7172   \n",
       "  616                     thiopurine S-methyltransferase   NCBI Gene:7172   \n",
       "  617                     thiopurine S-methyltransferase   NCBI Gene:7172   \n",
       "  618                     thiopurine S-methyltransferase   NCBI Gene:7172   \n",
       "  \n",
       "           Drug ID                                 Drug Generic Names  \\\n",
       "  0    PA143487910                      Rasilez,\"SPP 100\",\"aliskiren\"   \n",
       "  1    PA143487910                      Rasilez,\"SPP 100\",\"aliskiren\"   \n",
       "  2    PA162372878                             BMS-354825,\"dasatinib\"   \n",
       "  3    PA162372878                             BMS-354825,\"dasatinib\"   \n",
       "  4    PA162372878                             BMS-354825,\"dasatinib\"   \n",
       "  5    PA162372878                             BMS-354825,\"dasatinib\"   \n",
       "  6    PA162372878                             BMS-354825,\"dasatinib\"   \n",
       "  7    PA162372878                             BMS-354825,\"dasatinib\"   \n",
       "  8    PA162372878                             BMS-354825,\"dasatinib\"   \n",
       "  9    PA162372878                             BMS-354825,\"dasatinib\"   \n",
       "  10       PA10804  Imatinib Mesylate,\"Imatinib Methansulfonate\",\"...   \n",
       "  11       PA10804  Imatinib Mesylate,\"Imatinib Methansulfonate\",\"...   \n",
       "  12       PA10804  Imatinib Mesylate,\"Imatinib Methansulfonate\",\"...   \n",
       "  13       PA10804  Imatinib Mesylate,\"Imatinib Methansulfonate\",\"...   \n",
       "  14       PA10804  Imatinib Mesylate,\"Imatinib Methansulfonate\",\"...   \n",
       "  15       PA10804  Imatinib Mesylate,\"Imatinib Methansulfonate\",\"...   \n",
       "  16       PA10804  Imatinib Mesylate,\"Imatinib Methansulfonate\",\"...   \n",
       "  17       PA10804  Imatinib Mesylate,\"Imatinib Methansulfonate\",\"...   \n",
       "  18       PA10804  Imatinib Mesylate,\"Imatinib Methansulfonate\",\"...   \n",
       "  19       PA10804  Imatinib Mesylate,\"Imatinib Methansulfonate\",\"...   \n",
       "  20       PA10804  Imatinib Mesylate,\"Imatinib Methansulfonate\",\"...   \n",
       "  21       PA10804  Imatinib Mesylate,\"Imatinib Methansulfonate\",\"...   \n",
       "  22       PA10804  Imatinib Mesylate,\"Imatinib Methansulfonate\",\"...   \n",
       "  23       PA10804  Imatinib Mesylate,\"Imatinib Methansulfonate\",\"...   \n",
       "  24       PA10804  Imatinib Mesylate,\"Imatinib Methansulfonate\",\"...   \n",
       "  25       PA10804  Imatinib Mesylate,\"Imatinib Methansulfonate\",\"...   \n",
       "  26       PA10804  Imatinib Mesylate,\"Imatinib Methansulfonate\",\"...   \n",
       "  27       PA10804  Imatinib Mesylate,\"Imatinib Methansulfonate\",\"...   \n",
       "  28       PA10804  Imatinib Mesylate,\"Imatinib Methansulfonate\",\"...   \n",
       "  29   PA165958345                                   amn-107,\"amn107\"   \n",
       "  ..           ...                                                ...   \n",
       "  589     PA448486  Acide Arsenieux [French],\"Anhydride Arsenieux ...   \n",
       "  590     PA448486  Acide Arsenieux [French],\"Anhydride Arsenieux ...   \n",
       "  591     PA448486  Acide Arsenieux [French],\"Anhydride Arsenieux ...   \n",
       "  592     PA448486  Acide Arsenieux [French],\"Anhydride Arsenieux ...   \n",
       "  593     PA448486  Acide Arsenieux [French],\"Anhydride Arsenieux ...   \n",
       "  594     PA451746  ATRA,\"All Trans Retinoic Acid\",\"All Trans-Reti...   \n",
       "  595     PA451746  ATRA,\"All Trans Retinoic Acid\",\"All Trans-Reti...   \n",
       "  596     PA451746  ATRA,\"All Trans Retinoic Acid\",\"All Trans-Reti...   \n",
       "  597     PA451746  ATRA,\"All Trans Retinoic Acid\",\"All Trans-Reti...   \n",
       "  598     PA451746  ATRA,\"All Trans Retinoic Acid\",\"All Trans-Reti...   \n",
       "  599     PA451746  ATRA,\"All Trans Retinoic Acid\",\"All Trans-Reti...   \n",
       "  600  PA166118341                                                NaN   \n",
       "  601  PA165906891                                             XL-184   \n",
       "  602     PA449046  Chlomaphene,\"Chloramifene\",\"Chloramiphene\",\"Ci...   \n",
       "  603  PA166123389                                    4-Aminopyridine   \n",
       "  604  PA165948903           124490327,\"SGN-35\",\"brentuximab vedotin\"   \n",
       "  605  PA165948903           124490327,\"SGN-35\",\"brentuximab vedotin\"   \n",
       "  606  PA165948903           124490327,\"SGN-35\",\"brentuximab vedotin\"   \n",
       "  607  PA166114904                                                NaN   \n",
       "  608  PA166114904                                                NaN   \n",
       "  609  PA166114904                                                NaN   \n",
       "  610     PA450379  6 MP,\"6-Mercaptopurine\",\"MP\",\"Mercaptopurine M...   \n",
       "  611     PA450379  6 MP,\"6-Mercaptopurine\",\"MP\",\"Mercaptopurine M...   \n",
       "  612     PA450379  6 MP,\"6-Mercaptopurine\",\"MP\",\"Mercaptopurine M...   \n",
       "  613     PA448515  Azathioprin,\"Azathioprine Sodium\",\"Azatioprin\"...   \n",
       "  614     PA448515  Azathioprin,\"Azathioprine Sodium\",\"Azatioprin\"...   \n",
       "  615     PA448515  Azathioprin,\"Azathioprine Sodium\",\"Azatioprin\"...   \n",
       "  616     PA449014  CACP,\"CPDC\",\"CPDD\",\"Cis-DDP\",\"Cis-Diaminedichl...   \n",
       "  617     PA451663  2-Amino 6MP,\"2-Amino-6-mercaptopurine\",\"2-Amin...   \n",
       "  618     PA451663  2-Amino 6MP,\"2-Amino-6-mercaptopurine\",\"2-Amin...   \n",
       "  \n",
       "                                           Label Summary  \n",
       "  0    The EMA European Public Assessment Report (EPA...  \n",
       "  1    The HCSC product monograph for aliskiren (Rasi...  \n",
       "  2    The product monograph for dasatinib (SPRYCEL) ...  \n",
       "  3    The product monograph for dasatinib (SPRYCEL) ...  \n",
       "  4    The EMA European Public Assessment Report (EPA...  \n",
       "  5    The FDA-approved drug label for dasatinib (SPR...  \n",
       "  6    The PMDA package insert for dasatinib states t...  \n",
       "  7    The EMA European Public Assessment Report (EPA...  \n",
       "  8    The FDA-approved drug label for dasatinib (SPR...  \n",
       "  9    The PMDA package insert for dasatinib states t...  \n",
       "  10   The product monograph for imatinib (GLEEVEC) c...  \n",
       "  11   The product monograph for imatinib (GLEEVEC) c...  \n",
       "  12   The EMA European Public Assessment Report (EPA...  \n",
       "  13   The decision of whether to treat patients with...  \n",
       "  14   Imatinib is an inhibitor of the BCR-ABL tyrosi...  \n",
       "  15   The product monograph for imatinib (GLEEVEC) c...  \n",
       "  16   The EMA European Public Assessment Report (EPA...  \n",
       "  17   Imatinib is an inhibitor of the BCR-ABL tyrosi...  \n",
       "  18   The product monograph for imatinib (GLEEVEC) c...  \n",
       "  19   The EMA European Public Assessment Report (EPA...  \n",
       "  20   The decision of whether to treat patients with...  \n",
       "  21   Imatinib is an inhibitor of the BCR-ABL tyrosi...  \n",
       "  22   The product monograph for imatinib (GLEEVEC) c...  \n",
       "  23   Imatinib is an inhibitor of the BCR-ABL tyrosi...  \n",
       "  24   The product monograph for imatinib (GLEEVEC) c...  \n",
       "  25   The EMA European Public Assessment Report (EPA...  \n",
       "  26   The EMA European Public Assessment Report (EPA...  \n",
       "  27   The decision of whether to treat patients with...  \n",
       "  28   Imatinib is an inhibitor of the BCR-ABL tyrosi...  \n",
       "  29   The product monograph for nilotinib (TASIGNA) ...  \n",
       "  ..                                                 ...  \n",
       "  589  Arsenic trioxide is indicated for treatment of...  \n",
       "  590  The EMA European Public Assessment Report (EPA...  \n",
       "  591  The FDA-approved drug label for arsenic trioxi...  \n",
       "  592  The product monograph for arsenic trioxide (TR...  \n",
       "  593  Arsenic trioxide is indicated for treatment of...  \n",
       "  594  Tretinoin is a derivative of vitamin A (retino...  \n",
       "  595  Tretinoin (VESANOID) is a derivative of vitami...  \n",
       "  596  Tretinoin is indicated for the treatment of ac...  \n",
       "  597  Tretinoin is a derivative of vitamin A (retino...  \n",
       "  598  Tretinoin (VESANOID) is a derivative of vitami...  \n",
       "  599  Tretinoin is indicated for the treatment of ac...  \n",
       "  600  The EMA European Public Assessment Report (EPA...  \n",
       "  601  The FDA-approved drug label for COMETRIQ (cabo...  \n",
       "  602  Failed to fetch summary data for label PA16610...  \n",
       "  603  The EMA European Public Assessment Report (EPA...  \n",
       "  604  The EMA European Public Assessment Report (EPA...  \n",
       "  605  Brentuximab vedotin (Adcetris) is an antibody-...  \n",
       "  606  Brentuximab vedotin (Adcetris) is an antibody-...  \n",
       "  607  The EMA European Public Assessment Report (EPA...  \n",
       "  608  Belimumab (BENLYSTA) is a human IgG1lambda mon...  \n",
       "  609  Belimumab (BENLYSTA) is a human IgG1&lambda; m...  \n",
       "  610  The EMA European Public Assessment Report (EPA...  \n",
       "  611  TPMT genotyping or phenotyping can identify pa...  \n",
       "  612  The product monograph for mercaptopurine (PURI...  \n",
       "  613  The azathioprine (Imuran) FDA-approved drug la...  \n",
       "  614  The product monograph for azathioprine notes t...  \n",
       "  615  The PMDA package insert for azathioprine notes...  \n",
       "  616  The FDA-approved drug label for cisplatin was ...  \n",
       "  617  The drug label states that substantial dosage ...  \n",
       "  618  The product monograph for thioguanine (LANVIS)...  \n",
       "  \n",
       "  [619 rows x 9 columns], 'label': 'Pandas Dataframe before first filter'},\n",
       " datetime.datetime(2017, 5, 24, 19, 38, 43, 193278): {'content':         Label ID    Drug Name Gene Symbol Gene ID  \\\n",
       "  364  PA166127653  clopidogrel     CYP2C19   PA124   \n",
       "  370  PA166104851   ticagrelor      CYP3A5   PA131   \n",
       "  371  PA166104851   ticagrelor      CYP3A4   PA130   \n",
       "  \n",
       "                                               Gene Name            NCBI  \\\n",
       "  364  cytochrome P450, family 2, subfamily C, polype...  NCBI Gene:1557   \n",
       "  370  cytochrome P450, family 3, subfamily A, polype...  NCBI Gene:1577   \n",
       "  371  cytochrome P450, family 3, subfamily A, polype...  NCBI Gene:1576   \n",
       "  \n",
       "           Drug ID Drug Generic Names  \\\n",
       "  364     PA449053                NaN   \n",
       "  370  PA165374673                NaN   \n",
       "  371  PA165374673                NaN   \n",
       "  \n",
       "                                           Label Summary  \\\n",
       "  364  The product monograph for clopidogrel (PLAVIX)...   \n",
       "  370  Ticagrelor is a platelet inhibitor used to red...   \n",
       "  371  Ticagrelor is a platelet inhibitor used to red...   \n",
       "  \n",
       "                                            Ortholog IDs  \\\n",
       "  364  {u'Count': u'2', u'IdList': [u'1557', u'101151...   \n",
       "  370  {u'Count': u'9', u'IdList': [u'1577', u'737374...   \n",
       "  371  {u'Count': u'5', u'IdList': [u'1576', u'105543...   \n",
       "  \n",
       "                                        Ortholog Details  \n",
       "  364  [{u'Entrezgene_type': u'6', u'Entrezgene_uniqu...  \n",
       "  370  [{u'Entrezgene_type': u'6', u'Entrezgene_uniqu...  \n",
       "  371  [{u'Entrezgene_type': u'6', u'Entrezgene_uniqu...  ,\n",
       "  'label': 'Pandas Dataframe with all ortholog details'}}"
      ]
     },
     "execution_count": 7,
     "metadata": {},
     "output_type": "execute_result"
    }
   ],
   "source": [
    "trial_1['RESULTS'] # Registered the binary content of intermediate dataframes of specific interest"
   ]
  },
  {
   "cell_type": "code",
   "execution_count": 8,
   "metadata": {
    "collapsed": false
   },
   "outputs": [
    {
     "data": {
      "text/plain": [
       "{datetime.datetime(2017, 5, 24, 19, 40, 9, 696371): {'configurations': 'input_file=Experiment_2_trial_1.FASTA',\n",
       "  'label': 'Calling SciPhy with all genes and orthologs associated to cardiovascular diseases',\n",
       "  'run_environment': 'SINAPAD',\n",
       "  'workflow_name': 'SciPhy'}}"
      ]
     },
     "execution_count": 8,
     "metadata": {},
     "output_type": "execute_result"
    }
   ],
   "source": [
    "trial_1['RUNS']"
   ]
  },
  {
   "cell_type": "code",
   "execution_count": null,
   "metadata": {
    "collapsed": true
   },
   "outputs": [],
   "source": []
  }
 ],
 "metadata": {
  "kernelspec": {
   "display_name": "Python 2",
   "language": "python",
   "name": "python2"
  },
  "language_info": {
   "codemirror_mode": {
    "name": "ipython",
    "version": 2
   },
   "file_extension": ".py",
   "mimetype": "text/x-python",
   "name": "python",
   "nbconvert_exporter": "python",
   "pygments_lexer": "ipython2",
   "version": "2.7.9"
  }
 },
 "nbformat": 4,
 "nbformat_minor": 2
}
